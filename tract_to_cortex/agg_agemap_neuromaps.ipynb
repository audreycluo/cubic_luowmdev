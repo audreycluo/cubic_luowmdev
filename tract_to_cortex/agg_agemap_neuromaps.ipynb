{
 "cells": [
  {
   "cell_type": "code",
   "execution_count": 151,
   "metadata": {},
   "outputs": [],
   "source": [
    "from neuromaps.datasets import available_annotations\n",
    "from neuromaps.datasets import fetch_annotation\n",
    "from neuromaps.parcellate import Parcellater\n",
    "from netneurotools import datasets as nntdata\n",
    "from neuromaps.images import construct_shape_gii, load_gifti, load_data\n",
    "from neuromaps import images\n",
    "from neuromaps.stats import compare_images\n",
    "from neuromaps import transforms\n",
    "import json\n",
    "import nibabel as nib\n",
    "import numpy as np\n",
    "import os\n",
    "from os.path import join as ospj\n",
    "import re\n",
    "import pandas as pd\n",
    "import sys\n",
    " "
   ]
  },
  {
   "cell_type": "code",
   "execution_count": 167,
   "metadata": {},
   "outputs": [],
   "source": [
    "# load aggregated age map\n",
    "\n",
    "agg = pd.read_csv(\"/cbica/projects/luo_wm_dev/output/HBN/tract_profiles/tract_to_cortex/HBN_agg_ageeffects_ordered_all.csv\")"
   ]
  },
  {
   "cell_type": "code",
   "execution_count": 3,
   "metadata": {},
   "outputs": [
    {
     "data": {
      "text/html": [
       "<div>\n",
       "<style scoped>\n",
       "    .dataframe tbody tr th:only-of-type {\n",
       "        vertical-align: middle;\n",
       "    }\n",
       "\n",
       "    .dataframe tbody tr th {\n",
       "        vertical-align: top;\n",
       "    }\n",
       "\n",
       "    .dataframe thead th {\n",
       "        text-align: right;\n",
       "    }\n",
       "</style>\n",
       "<table border=\"1\" class=\"dataframe\">\n",
       "  <thead>\n",
       "    <tr style=\"text-align: right;\">\n",
       "      <th></th>\n",
       "      <th>Unnamed: 0</th>\n",
       "      <th>region</th>\n",
       "      <th>regional_mean_ageeffect</th>\n",
       "      <th>coverage</th>\n",
       "      <th>regionName</th>\n",
       "      <th>regionLongName</th>\n",
       "      <th>regionIdLabel</th>\n",
       "      <th>LR</th>\n",
       "      <th>Lobe</th>\n",
       "      <th>cortex</th>\n",
       "      <th>regionID</th>\n",
       "      <th>Cortex_ID</th>\n",
       "      <th>x.cog</th>\n",
       "      <th>y.cog</th>\n",
       "      <th>z.cog</th>\n",
       "      <th>volmm</th>\n",
       "      <th>label</th>\n",
       "    </tr>\n",
       "  </thead>\n",
       "  <tbody>\n",
       "    <tr>\n",
       "      <th>0</th>\n",
       "      <td>1</td>\n",
       "      <td>V1</td>\n",
       "      <td>0.223275</td>\n",
       "      <td>yes</td>\n",
       "      <td>V1_R</td>\n",
       "      <td>Primary_Visual_Cortex_R</td>\n",
       "      <td>201_R</td>\n",
       "      <td>R</td>\n",
       "      <td>Occ</td>\n",
       "      <td>Primary_Visual</td>\n",
       "      <td>181</td>\n",
       "      <td>1</td>\n",
       "      <td>78.060375</td>\n",
       "      <td>44.539286</td>\n",
       "      <td>74.333474</td>\n",
       "      <td>7089</td>\n",
       "      <td>R_V1_ROI</td>\n",
       "    </tr>\n",
       "    <tr>\n",
       "      <th>1</th>\n",
       "      <td>2</td>\n",
       "      <td>MST</td>\n",
       "      <td>0.278588</td>\n",
       "      <td>yes</td>\n",
       "      <td>MST_R</td>\n",
       "      <td>Medial_Superior_Temporal_Area_R</td>\n",
       "      <td>202_R</td>\n",
       "      <td>R</td>\n",
       "      <td>Occ</td>\n",
       "      <td>MT+_Complex_and_Neighboring_Visual_Areas</td>\n",
       "      <td>182</td>\n",
       "      <td>5</td>\n",
       "      <td>43.620295</td>\n",
       "      <td>63.751227</td>\n",
       "      <td>78.013093</td>\n",
       "      <td>611</td>\n",
       "      <td>R_MST_ROI</td>\n",
       "    </tr>\n",
       "    <tr>\n",
       "      <th>2</th>\n",
       "      <td>3</td>\n",
       "      <td>V6</td>\n",
       "      <td>0.268083</td>\n",
       "      <td>yes</td>\n",
       "      <td>V6_R</td>\n",
       "      <td>Sixth_Visual_Area_R</td>\n",
       "      <td>203_R</td>\n",
       "      <td>R</td>\n",
       "      <td>Occ</td>\n",
       "      <td>Dorsal_Stream_Visual</td>\n",
       "      <td>183</td>\n",
       "      <td>3</td>\n",
       "      <td>72.226868</td>\n",
       "      <td>49.256228</td>\n",
       "      <td>102.929715</td>\n",
       "      <td>1124</td>\n",
       "      <td>R_V6_ROI</td>\n",
       "    </tr>\n",
       "    <tr>\n",
       "      <th>3</th>\n",
       "      <td>4</td>\n",
       "      <td>V2</td>\n",
       "      <td>0.191993</td>\n",
       "      <td>yes</td>\n",
       "      <td>V2_R</td>\n",
       "      <td>Second_Visual_Area_R</td>\n",
       "      <td>204_R</td>\n",
       "      <td>R</td>\n",
       "      <td>Occ</td>\n",
       "      <td>Early_Visual</td>\n",
       "      <td>184</td>\n",
       "      <td>2</td>\n",
       "      <td>77.026083</td>\n",
       "      <td>47.558042</td>\n",
       "      <td>76.305265</td>\n",
       "      <td>6211</td>\n",
       "      <td>R_V2_ROI</td>\n",
       "    </tr>\n",
       "    <tr>\n",
       "      <th>4</th>\n",
       "      <td>5</td>\n",
       "      <td>V3</td>\n",
       "      <td>0.260230</td>\n",
       "      <td>yes</td>\n",
       "      <td>V3_R</td>\n",
       "      <td>Third_Visual_Area_R</td>\n",
       "      <td>205_R</td>\n",
       "      <td>R</td>\n",
       "      <td>Occ</td>\n",
       "      <td>Early_Visual</td>\n",
       "      <td>185</td>\n",
       "      <td>2</td>\n",
       "      <td>71.976821</td>\n",
       "      <td>41.580308</td>\n",
       "      <td>78.859282</td>\n",
       "      <td>4875</td>\n",
       "      <td>R_V3_ROI</td>\n",
       "    </tr>\n",
       "    <tr>\n",
       "      <th>...</th>\n",
       "      <td>...</td>\n",
       "      <td>...</td>\n",
       "      <td>...</td>\n",
       "      <td>...</td>\n",
       "      <td>...</td>\n",
       "      <td>...</td>\n",
       "      <td>...</td>\n",
       "      <td>...</td>\n",
       "      <td>...</td>\n",
       "      <td>...</td>\n",
       "      <td>...</td>\n",
       "      <td>...</td>\n",
       "      <td>...</td>\n",
       "      <td>...</td>\n",
       "      <td>...</td>\n",
       "      <td>...</td>\n",
       "      <td>...</td>\n",
       "    </tr>\n",
       "    <tr>\n",
       "      <th>355</th>\n",
       "      <td>356</td>\n",
       "      <td>STSva</td>\n",
       "      <td>0.152273</td>\n",
       "      <td>yes</td>\n",
       "      <td>STSva_L</td>\n",
       "      <td>Area_STSv_anterior_L</td>\n",
       "      <td>176_L</td>\n",
       "      <td>L</td>\n",
       "      <td>Temp</td>\n",
       "      <td>Auditory_Association</td>\n",
       "      <td>176</td>\n",
       "      <td>11</td>\n",
       "      <td>142.689243</td>\n",
       "      <td>118.134462</td>\n",
       "      <td>52.832669</td>\n",
       "      <td>1004</td>\n",
       "      <td>L_STSva_ROI</td>\n",
       "    </tr>\n",
       "    <tr>\n",
       "      <th>356</th>\n",
       "      <td>357</td>\n",
       "      <td>TE1m</td>\n",
       "      <td>0.313459</td>\n",
       "      <td>yes</td>\n",
       "      <td>TE1m_L</td>\n",
       "      <td>Area_TE1_Middle_L</td>\n",
       "      <td>177_L</td>\n",
       "      <td>L</td>\n",
       "      <td>Temp</td>\n",
       "      <td>Lateral_Temporal</td>\n",
       "      <td>177</td>\n",
       "      <td>14</td>\n",
       "      <td>155.554922</td>\n",
       "      <td>101.395287</td>\n",
       "      <td>54.901178</td>\n",
       "      <td>2631</td>\n",
       "      <td>L_TE1m_ROI</td>\n",
       "    </tr>\n",
       "    <tr>\n",
       "      <th>357</th>\n",
       "      <td>358</td>\n",
       "      <td>PI</td>\n",
       "      <td>0.212804</td>\n",
       "      <td>yes</td>\n",
       "      <td>PI_L</td>\n",
       "      <td>Para-Insular_Area_L</td>\n",
       "      <td>178_L</td>\n",
       "      <td>L</td>\n",
       "      <td>Temp</td>\n",
       "      <td>Insular_and_Frontal_Opercular</td>\n",
       "      <td>178</td>\n",
       "      <td>12</td>\n",
       "      <td>134.650549</td>\n",
       "      <td>124.293407</td>\n",
       "      <td>56.102198</td>\n",
       "      <td>910</td>\n",
       "      <td>L_PI_ROI</td>\n",
       "    </tr>\n",
       "    <tr>\n",
       "      <th>358</th>\n",
       "      <td>359</td>\n",
       "      <td>a32pr</td>\n",
       "      <td>0.292845</td>\n",
       "      <td>yes</td>\n",
       "      <td>a32pr_L</td>\n",
       "      <td>Area_anterior_32_prime_L</td>\n",
       "      <td>179_L</td>\n",
       "      <td>L</td>\n",
       "      <td>Fr</td>\n",
       "      <td>Anterior_Cingulate_and_Medial_Prefrontal</td>\n",
       "      <td>179</td>\n",
       "      <td>19</td>\n",
       "      <td>97.782313</td>\n",
       "      <td>155.883735</td>\n",
       "      <td>101.539270</td>\n",
       "      <td>1617</td>\n",
       "      <td>L_a32pr_ROI</td>\n",
       "    </tr>\n",
       "    <tr>\n",
       "      <th>359</th>\n",
       "      <td>360</td>\n",
       "      <td>p24</td>\n",
       "      <td>0.262948</td>\n",
       "      <td>yes</td>\n",
       "      <td>p24_L</td>\n",
       "      <td>Area_posterior_24_L</td>\n",
       "      <td>180_L</td>\n",
       "      <td>L</td>\n",
       "      <td>Fr</td>\n",
       "      <td>Anterior_Cingulate_and_Medial_Prefrontal</td>\n",
       "      <td>180</td>\n",
       "      <td>19</td>\n",
       "      <td>95.442887</td>\n",
       "      <td>162.526279</td>\n",
       "      <td>84.888577</td>\n",
       "      <td>1427</td>\n",
       "      <td>L_p24_ROI</td>\n",
       "    </tr>\n",
       "  </tbody>\n",
       "</table>\n",
       "<p>360 rows × 17 columns</p>\n",
       "</div>"
      ],
      "text/plain": [
       "     Unnamed: 0 region  regional_mean_ageeffect coverage regionName  \\\n",
       "0             1     V1                 0.223275      yes       V1_R   \n",
       "1             2    MST                 0.278588      yes      MST_R   \n",
       "2             3     V6                 0.268083      yes       V6_R   \n",
       "3             4     V2                 0.191993      yes       V2_R   \n",
       "4             5     V3                 0.260230      yes       V3_R   \n",
       "..          ...    ...                      ...      ...        ...   \n",
       "355         356  STSva                 0.152273      yes    STSva_L   \n",
       "356         357   TE1m                 0.313459      yes     TE1m_L   \n",
       "357         358     PI                 0.212804      yes       PI_L   \n",
       "358         359  a32pr                 0.292845      yes    a32pr_L   \n",
       "359         360    p24                 0.262948      yes      p24_L   \n",
       "\n",
       "                      regionLongName regionIdLabel LR  Lobe  \\\n",
       "0            Primary_Visual_Cortex_R         201_R  R   Occ   \n",
       "1    Medial_Superior_Temporal_Area_R         202_R  R   Occ   \n",
       "2                Sixth_Visual_Area_R         203_R  R   Occ   \n",
       "3               Second_Visual_Area_R         204_R  R   Occ   \n",
       "4                Third_Visual_Area_R         205_R  R   Occ   \n",
       "..                               ...           ... ..   ...   \n",
       "355             Area_STSv_anterior_L         176_L  L  Temp   \n",
       "356                Area_TE1_Middle_L         177_L  L  Temp   \n",
       "357              Para-Insular_Area_L         178_L  L  Temp   \n",
       "358         Area_anterior_32_prime_L         179_L  L    Fr   \n",
       "359              Area_posterior_24_L         180_L  L    Fr   \n",
       "\n",
       "                                       cortex  regionID  Cortex_ID  \\\n",
       "0                              Primary_Visual       181          1   \n",
       "1    MT+_Complex_and_Neighboring_Visual_Areas       182          5   \n",
       "2                        Dorsal_Stream_Visual       183          3   \n",
       "3                                Early_Visual       184          2   \n",
       "4                                Early_Visual       185          2   \n",
       "..                                        ...       ...        ...   \n",
       "355                      Auditory_Association       176         11   \n",
       "356                          Lateral_Temporal       177         14   \n",
       "357             Insular_and_Frontal_Opercular       178         12   \n",
       "358  Anterior_Cingulate_and_Medial_Prefrontal       179         19   \n",
       "359  Anterior_Cingulate_and_Medial_Prefrontal       180         19   \n",
       "\n",
       "          x.cog       y.cog       z.cog  volmm        label  \n",
       "0     78.060375   44.539286   74.333474   7089     R_V1_ROI  \n",
       "1     43.620295   63.751227   78.013093    611    R_MST_ROI  \n",
       "2     72.226868   49.256228  102.929715   1124     R_V6_ROI  \n",
       "3     77.026083   47.558042   76.305265   6211     R_V2_ROI  \n",
       "4     71.976821   41.580308   78.859282   4875     R_V3_ROI  \n",
       "..          ...         ...         ...    ...          ...  \n",
       "355  142.689243  118.134462   52.832669   1004  L_STSva_ROI  \n",
       "356  155.554922  101.395287   54.901178   2631   L_TE1m_ROI  \n",
       "357  134.650549  124.293407   56.102198    910     L_PI_ROI  \n",
       "358   97.782313  155.883735  101.539270   1617  L_a32pr_ROI  \n",
       "359   95.442887  162.526279   84.888577   1427    L_p24_ROI  \n",
       "\n",
       "[360 rows x 17 columns]"
      ]
     },
     "execution_count": 3,
     "metadata": {},
     "output_type": "execute_result"
    }
   ],
   "source": [
    "agg"
   ]
  },
  {
   "cell_type": "code",
   "execution_count": 4,
   "metadata": {},
   "outputs": [
    {
     "name": "stdout",
     "output_type": "stream",
     "text": [
      "('raichle', 'cbf', 'fsLR', '164k')\n",
      "('raichle', 'cbv', 'fsLR', '164k')\n",
      "('raichle', 'cmr02', 'fsLR', '164k')\n",
      "('raichle', 'cmruglu', 'fsLR', '164k')\n"
     ]
    }
   ],
   "source": [
    "for annotation in available_annotations('raichle'):\n",
    "    print(annotation)"
   ]
  },
  {
   "cell_type": "code",
   "execution_count": 16,
   "metadata": {},
   "outputs": [
    {
     "name": "stdout",
     "output_type": "stream",
     "text": [
      "('satterthwaite2014', 'meancbf', 'MNI152', '1mm')\n"
     ]
    }
   ],
   "source": [
    "for annotation in available_annotations('satterthwaite2014'):\n",
    "    print(annotation)"
   ]
  },
  {
   "cell_type": "code",
   "execution_count": 17,
   "metadata": {},
   "outputs": [
    {
     "name": "stdout",
     "output_type": "stream",
     "text": [
      "('hcps1200', 'megalpha', 'fsLR', '4k')\n",
      "('hcps1200', 'megbeta', 'fsLR', '4k')\n",
      "('hcps1200', 'megdelta', 'fsLR', '4k')\n",
      "('hcps1200', 'meggamma1', 'fsLR', '4k')\n",
      "('hcps1200', 'meggamma2', 'fsLR', '4k')\n",
      "('hcps1200', 'megtheta', 'fsLR', '4k')\n",
      "('hcps1200', 'megtimescale', 'fsLR', '4k')\n",
      "('hcps1200', 'myelinmap', 'fsLR', '32k')\n",
      "('hcps1200', 'thickness', 'fsLR', '32k')\n"
     ]
    }
   ],
   "source": [
    "for annotation in available_annotations('hcps1200'):\n",
    "    print(annotation)"
   ]
  },
  {
   "cell_type": "code",
   "execution_count": 57,
   "metadata": {},
   "outputs": [
    {
     "name": "stdout",
     "output_type": "stream",
     "text": [
      "('beliveau2017', 'az10419369', 'MNI152', '1mm')\n",
      "('beliveau2017', 'az10419369', 'fsaverage', '164k')\n",
      "('beliveau2017', 'cimbi36', 'MNI152', '1mm')\n",
      "('beliveau2017', 'cimbi36', 'fsaverage', '164k')\n",
      "('beliveau2017', 'cumi101', 'MNI152', '1mm')\n",
      "('beliveau2017', 'cumi101', 'fsaverage', '164k')\n",
      "('beliveau2017', 'dasb', 'MNI152', '1mm')\n",
      "('beliveau2017', 'dasb', 'fsaverage', '164k')\n",
      "('beliveau2017', 'sb207145', 'MNI152', '1mm')\n",
      "('beliveau2017', 'sb207145', 'fsaverage', '164k')\n"
     ]
    }
   ],
   "source": [
    "\n",
    "for annotation in available_annotations('beliveau2017'):\n",
    "    print(annotation)"
   ]
  },
  {
   "cell_type": "code",
   "execution_count": 106,
   "metadata": {},
   "outputs": [
    {
     "name": "stderr",
     "output_type": "stream",
     "text": [
      "/Users/audluo/anaconda3/envs/luo_wm_dev/lib/python3.8/site-packages/neuromaps/datasets/annotations.py:238: UserWarning: Data from beliveau2017 and norgaard2021 is best used in the provided fsaverage space (e.g. source='beliveau2017', space='fsaverage', den='164k'). MNI152 maps should only be used for subcortical data.\n",
      "  warnings.warn('Data from beliveau2017 and norgaard2021 is best used in'\n"
     ]
    }
   ],
   "source": [
    "raichle = fetch_annotation(source=['raichle'])\n",
    "reardon = fetch_annotation(source=['reardon2018'])\n",
    "ted = fetch_annotation(source=['satterthwaite2014'])\n",
    "hcps = fetch_annotation(source=['hcps1200'])\n",
    "beliveau = fetch_annotation(source=['beliveau2017'])\n",
    "\n",
    "genes = fetch_annotation(source='abagen', desc='genepc1')\n",
    "hill = fetch_annotation(source = 'hill2010', desc = 'devexp')\n"
   ]
  },
  {
   "cell_type": "markdown",
   "metadata": {},
   "source": [
    "- need to transform surfaces to fslr 32k\n",
    "- then parcellate the maps to glasser\n",
    "- then compare the brain maps\n",
    "- i'm lazy"
   ]
  },
  {
   "cell_type": "markdown",
   "metadata": {},
   "source": [
    "to subset: \n",
    "`hcps[('hcps1200', 'megbeta', 'fsLR', '4k')]`"
   ]
  },
  {
   "cell_type": "code",
   "execution_count": 4,
   "metadata": {},
   "outputs": [
    {
     "name": "stdout",
     "output_type": "stream",
     "text": [
      "<neuromaps.parcellate.Parcellater object at 0x284689820>\n"
     ]
    }
   ],
   "source": [
    "#########################################################\n",
    "# Load glasser\n",
    "#########################################################\n",
    "lh_glasser = nib.load(\"/cbica/projects/luo_wm_dev/atlases/glasser/FSLRVertex/glasser_360_L.label.gii\")\n",
    "rh_glasser = nib.load(\"/cbica/projects/luo_wm_dev/atlases/glasser/FSLRVertex/glasser_360_R.label.gii\")\n",
    "\n",
    "# generate neuromaps fsLR based Glasser 360 parcellation (needs relabeling to have consecutive region IDs)\n",
    "glasser = images.relabel_gifti((lh_glasser, rh_glasser), background=['Medial_wall'])\n",
    "\n",
    "# let's assign these labels so that we can call them later for plotting\n",
    "lh_glasser = glasser[0]\n",
    "rh_glasser = glasser[1]\n",
    "\n",
    "# create parcellater object\n",
    "glasser_parc = Parcellater(glasser, 'fsLR').fit()\n",
    "print(glasser_parc)"
   ]
  },
  {
   "cell_type": "code",
   "execution_count": 48,
   "metadata": {},
   "outputs": [
    {
     "data": {
      "text/plain": [
       "'/Users/audluo/neuromaps-data/annotations/hcps1200/thickness/fsLR/source-hcps1200_desc-thickness_space-fsLR_den-32k_hemi-R_feature.func.gii'"
      ]
     },
     "execution_count": 48,
     "metadata": {},
     "output_type": "execute_result"
    }
   ],
   "source": [
    "hcps[('hcps1200', 'megalpha', 'fsLR', '4k')][1]\n",
    "hcps[('hcps1200', 'thickness', 'fsLR', '32k')][1]"
   ]
  },
  {
   "cell_type": "code",
   "execution_count": 128,
   "metadata": {},
   "outputs": [],
   "source": [
    "\n",
    "hcps_parc = {}\n",
    "\n",
    "for key, value in hcps.items():\n",
    "    left_gii = value[0]  \n",
    "    right_gii = value[1]  \n",
    "    combined_gii = [left_gii, right_gii]\n",
    "    transformed_values = glasser_parc.fit_transform(combined_gii, 'fsLR')\n",
    "    hcps_parc[key] = transformed_values"
   ]
  },
  {
   "cell_type": "code",
   "execution_count": 9,
   "metadata": {},
   "outputs": [
    {
     "data": {
      "text/plain": [
       "dict_keys([('hcps1200', 'megalpha', 'fsLR', '4k'), ('hcps1200', 'megbeta', 'fsLR', '4k'), ('hcps1200', 'megdelta', 'fsLR', '4k'), ('hcps1200', 'meggamma1', 'fsLR', '4k'), ('hcps1200', 'meggamma2', 'fsLR', '4k'), ('hcps1200', 'megtheta', 'fsLR', '4k'), ('hcps1200', 'megtimescale', 'fsLR', '4k'), ('hcps1200', 'myelinmap', 'fsLR', '32k'), ('hcps1200', 'thickness', 'fsLR', '32k')])"
      ]
     },
     "execution_count": 9,
     "metadata": {},
     "output_type": "execute_result"
    }
   ],
   "source": [
    "hcps_parc.keys()"
   ]
  },
  {
   "cell_type": "code",
   "execution_count": 168,
   "metadata": {},
   "outputs": [],
   "source": [
    "from neuromaps import datasets, images, nulls, resampling\n",
    "\n",
    "rotated = nulls.alexander_bloch(\n",
    "    data=agg['regional_mean_ageeffect'],\n",
    "    atlas='fsLR',                 # Specify atlas as fsLR\n",
    "    density='32k',                # Choose density matching your data, e.g., '32k'\n",
    "    parcellation=(lh_glasser, rh_glasser),  # Pass the Glasser parcellation tuple\n",
    "    n_perm=1000,                  # Number of permutations\n",
    "    seed=42                       # Optional seed for reproducibility\n",
    ")"
   ]
  },
  {
   "cell_type": "markdown",
   "metadata": {},
   "source": []
  },
  {
   "cell_type": "code",
   "execution_count": 169,
   "metadata": {},
   "outputs": [
    {
     "data": {
      "text/plain": [
       "(0.20406639993287454, 0.6433566433566433)"
      ]
     },
     "execution_count": 169,
     "metadata": {},
     "output_type": "execute_result"
    }
   ],
   "source": [
    "\n",
    "compare_images(hcps_parc[('hcps1200', 'megalpha', 'fsLR', '4k')], agg['regional_mean_ageeffect'], metric='pearsonr', nulls=rotated)"
   ]
  },
  {
   "cell_type": "code",
   "execution_count": 170,
   "metadata": {},
   "outputs": [
    {
     "data": {
      "text/plain": [
       "(0.5458672575958705, 0.058941058941058944)"
      ]
     },
     "execution_count": 170,
     "metadata": {},
     "output_type": "execute_result"
    }
   ],
   "source": [
    "compare_images(hcps_parc[('hcps1200', 'megbeta', 'fsLR', '4k')], agg['regional_mean_ageeffect'], metric='pearsonr', nulls=rotated)"
   ]
  },
  {
   "cell_type": "code",
   "execution_count": 173,
   "metadata": {},
   "outputs": [
    {
     "data": {
      "text/plain": [
       "(-0.4649153331868147, 0.14685314685314685)"
      ]
     },
     "execution_count": 173,
     "metadata": {},
     "output_type": "execute_result"
    }
   ],
   "source": [
    "compare_images(hcps_parc[('hcps1200', 'megdelta', 'fsLR', '4k')], agg['regional_mean_ageeffect'], metric='pearsonr', nulls = rotated)"
   ]
  },
  {
   "cell_type": "code",
   "execution_count": 174,
   "metadata": {},
   "outputs": [
    {
     "data": {
      "text/plain": [
       "-0.15497817745302697"
      ]
     },
     "execution_count": 174,
     "metadata": {},
     "output_type": "execute_result"
    }
   ],
   "source": [
    "compare_images(hcps_parc[('hcps1200', 'meggamma1', 'fsLR', '4k')], agg['regional_mean_ageeffect'], metric='pearsonr')"
   ]
  },
  {
   "cell_type": "code",
   "execution_count": 127,
   "metadata": {},
   "outputs": [
    {
     "data": {
      "text/plain": [
       "dict_keys([('hcps1200', 'megalpha', 'fsLR', '4k'), ('hcps1200', 'megbeta', 'fsLR', '4k'), ('hcps1200', 'megdelta', 'fsLR', '4k'), ('hcps1200', 'meggamma1', 'fsLR', '4k')])"
      ]
     },
     "execution_count": 127,
     "metadata": {},
     "output_type": "execute_result"
    }
   ],
   "source": [
    "hcps_parc.keys()"
   ]
  },
  {
   "cell_type": "code",
   "execution_count": 176,
   "metadata": {},
   "outputs": [
    {
     "data": {
      "text/plain": [
       "(-0.4834890746450803, 0.12287712287712288)"
      ]
     },
     "execution_count": 176,
     "metadata": {},
     "output_type": "execute_result"
    }
   ],
   "source": [
    "compare_images(hcps_parc[('hcps1200', 'meggamma2', 'fsLR', '4k')], agg['regional_mean_ageeffect'], metric='pearsonr', nulls=rotated)"
   ]
  },
  {
   "cell_type": "code",
   "execution_count": 177,
   "metadata": {},
   "outputs": [
    {
     "data": {
      "text/plain": [
       "(0.02788659426918444, 0.955044955044955)"
      ]
     },
     "execution_count": 177,
     "metadata": {},
     "output_type": "execute_result"
    }
   ],
   "source": [
    "compare_images(hcps_parc[('hcps1200', 'megtheta', 'fsLR', '4k')], agg['regional_mean_ageeffect'], metric='pearsonr', nulls=rotated)"
   ]
  },
  {
   "cell_type": "code",
   "execution_count": 178,
   "metadata": {},
   "outputs": [
    {
     "data": {
      "text/plain": [
       "(-0.47787245545750284, 0.13086913086913088)"
      ]
     },
     "execution_count": 178,
     "metadata": {},
     "output_type": "execute_result"
    }
   ],
   "source": [
    "compare_images(hcps_parc[('hcps1200', 'megtimescale', 'fsLR', '4k')], agg['regional_mean_ageeffect'], metric='pearsonr', nulls=rotated)"
   ]
  },
  {
   "cell_type": "code",
   "execution_count": 179,
   "metadata": {},
   "outputs": [
    {
     "data": {
      "text/plain": [
       "0.34194770216212755"
      ]
     },
     "execution_count": 179,
     "metadata": {},
     "output_type": "execute_result"
    }
   ],
   "source": [
    "compare_images(hcps_parc[('hcps1200', 'myelinmap', 'fsLR', '32k')], agg['regional_mean_ageeffect'], metric='pearsonr')"
   ]
  },
  {
   "cell_type": "code",
   "execution_count": 181,
   "metadata": {},
   "outputs": [
    {
     "data": {
      "text/plain": [
       "(-0.4521002826916679, 0.16783216783216784)"
      ]
     },
     "execution_count": 181,
     "metadata": {},
     "output_type": "execute_result"
    }
   ],
   "source": [
    "compare_images(hcps_parc[('hcps1200', 'thickness', 'fsLR', '32k')], agg['regional_mean_ageeffect'], metric='pearsonr', nulls=rotated)"
   ]
  },
  {
   "cell_type": "code",
   "execution_count": 182,
   "metadata": {},
   "outputs": [],
   "source": [
    "ted_fslr = transforms.mni152_to_fslr(ted, '32k')"
   ]
  },
  {
   "cell_type": "code",
   "execution_count": 32,
   "metadata": {},
   "outputs": [],
   "source": [
    "#ted_fslr\n",
    "\n",
    "left_gii = ted_fslr[0]  \n",
    "right_gii = ted_fslr[1]  \n",
    "combined_gii = [left_gii, right_gii]\n",
    "transformed_values = glasser_parc.fit_transform(combined_gii, 'fsLR')\n",
    "ted_parc = transformed_values"
   ]
  },
  {
   "cell_type": "code",
   "execution_count": 183,
   "metadata": {},
   "outputs": [
    {
     "data": {
      "text/plain": [
       "-0.2455570048542545"
      ]
     },
     "execution_count": 183,
     "metadata": {},
     "output_type": "execute_result"
    }
   ],
   "source": [
    "compare_images(ted_parc, agg['regional_mean_ageeffect'], metric='pearsonr')"
   ]
  },
  {
   "cell_type": "code",
   "execution_count": 35,
   "metadata": {},
   "outputs": [
    {
     "name": "stdout",
     "output_type": "stream",
     "text": [
      "Downloading data from https://files.osf.io/v1/resources/4mw3a/providers/osfstorage/60b684b9cb2a5e01fd68c115 ...\n"
     ]
    },
    {
     "name": "stderr",
     "output_type": "stream",
     "text": [
      "Downloaded 15056896 of 28260568 bytes (53.3%,    0.9s remaining) ...done. (3 seconds, 0 min)\n",
      "Extracting data from /Users/audluo/neuromaps-data/d9a7bf9d3cbc8ffc454fc7f993cf94ae/fsLR164k.tar.gz..... done.\n"
     ]
    }
   ],
   "source": [
    "\n",
    "raichle_parc = {}\n",
    "\n",
    "for key, value in raichle.items():\n",
    "    left_gii = value[0]  \n",
    "    right_gii = value[1]  \n",
    "    combined_gii = [left_gii, right_gii]\n",
    "    transformed_values = glasser_parc.fit_transform(combined_gii, 'fsLR')\n",
    "    raichle_parc[key] = transformed_values"
   ]
  },
  {
   "cell_type": "code",
   "execution_count": 36,
   "metadata": {},
   "outputs": [
    {
     "data": {
      "text/plain": [
       "dict_keys([('raichle', 'cbf', 'fsLR', '164k'), ('raichle', 'cbv', 'fsLR', '164k'), ('raichle', 'cmr02', 'fsLR', '164k'), ('raichle', 'cmruglu', 'fsLR', '164k')])"
      ]
     },
     "execution_count": 36,
     "metadata": {},
     "output_type": "execute_result"
    }
   ],
   "source": [
    "raichle.keys()"
   ]
  },
  {
   "cell_type": "code",
   "execution_count": 184,
   "metadata": {},
   "outputs": [
    {
     "data": {
      "text/plain": [
       "(0.15894762275507895, 0.7222777222777222)"
      ]
     },
     "execution_count": 184,
     "metadata": {},
     "output_type": "execute_result"
    }
   ],
   "source": [
    "compare_images(raichle_parc[('raichle', 'cbf', 'fsLR', '164k')], agg['regional_mean_ageeffect'], metric='pearsonr', nulls=rotated)"
   ]
  },
  {
   "cell_type": "code",
   "execution_count": 185,
   "metadata": {},
   "outputs": [
    {
     "data": {
      "text/plain": [
       "-0.02395888996646853"
      ]
     },
     "execution_count": 185,
     "metadata": {},
     "output_type": "execute_result"
    }
   ],
   "source": [
    "compare_images(raichle_parc[('raichle', 'cbv', 'fsLR', '164k')], agg['regional_mean_ageeffect'], metric='pearsonr')"
   ]
  },
  {
   "cell_type": "code",
   "execution_count": 186,
   "metadata": {},
   "outputs": [
    {
     "data": {
      "text/plain": [
       "(0.3230414583425527, 0.3936063936063936)"
      ]
     },
     "execution_count": 186,
     "metadata": {},
     "output_type": "execute_result"
    }
   ],
   "source": [
    "compare_images(raichle_parc[('raichle', 'cmr02', 'fsLR', '164k')], agg['regional_mean_ageeffect'], metric='pearsonr', nulls = rotated)"
   ]
  },
  {
   "cell_type": "code",
   "execution_count": 187,
   "metadata": {},
   "outputs": [
    {
     "data": {
      "text/plain": [
       "(0.3031155543826755, 0.43956043956043955)"
      ]
     },
     "execution_count": 187,
     "metadata": {},
     "output_type": "execute_result"
    }
   ],
   "source": [
    "compare_images(raichle_parc[('raichle', 'cmruglu', 'fsLR', '164k')], agg['regional_mean_ageeffect'], metric='pearsonr', nulls=rotated)"
   ]
  },
  {
   "cell_type": "code",
   "execution_count": 65,
   "metadata": {},
   "outputs": [
    {
     "name": "stdout",
     "output_type": "stream",
     "text": [
      "('beliveau2017', 'az10419369', 'MNI152', '1mm')\n",
      "('beliveau2017', 'cimbi36', 'MNI152', '1mm')\n",
      "('beliveau2017', 'cumi101', 'MNI152', '1mm')\n",
      "('beliveau2017', 'dasb', 'MNI152', '1mm')\n",
      "('beliveau2017', 'sb207145', 'MNI152', '1mm')\n"
     ]
    },
    {
     "data": {
      "text/plain": [
       "{('beliveau2017',\n",
       "  'az10419369',\n",
       "  'MNI152',\n",
       "  '1mm'): (<nibabel.gifti.gifti.GiftiImage at 0x2876535e0>, <nibabel.gifti.gifti.GiftiImage at 0x287685610>),\n",
       " ('beliveau2017',\n",
       "  'cimbi36',\n",
       "  'MNI152',\n",
       "  '1mm'): (<nibabel.gifti.gifti.GiftiImage at 0x2876856d0>, <nibabel.gifti.gifti.GiftiImage at 0x287643f10>),\n",
       " ('beliveau2017',\n",
       "  'cumi101',\n",
       "  'MNI152',\n",
       "  '1mm'): (<nibabel.gifti.gifti.GiftiImage at 0x2876989a0>, <nibabel.gifti.gifti.GiftiImage at 0x287698790>),\n",
       " ('beliveau2017',\n",
       "  'dasb',\n",
       "  'MNI152',\n",
       "  '1mm'): (<nibabel.gifti.gifti.GiftiImage at 0x176200d30>, <nibabel.gifti.gifti.GiftiImage at 0x176200280>),\n",
       " ('beliveau2017',\n",
       "  'sb207145',\n",
       "  'MNI152',\n",
       "  '1mm'): (<nibabel.gifti.gifti.GiftiImage at 0x2876af790>, <nibabel.gifti.gifti.GiftiImage at 0x284756880>)}"
      ]
     },
     "execution_count": 65,
     "metadata": {},
     "output_type": "execute_result"
    }
   ],
   "source": [
    "beliveau_fslr = {}\n",
    "\n",
    "\n",
    "for key, value in beliveau.items():\n",
    "    if 'mni' in key[2].lower():  # Check if 'mni' is part of the key\n",
    "        print(key)\n",
    "        beliveau_fslr[key] = transforms.mni152_to_fslr(beliveau[key], '32k')\n",
    "\n",
    "\n"
   ]
  },
  {
   "cell_type": "code",
   "execution_count": 143,
   "metadata": {},
   "outputs": [],
   "source": [
    "beliveau_parc = {}\n",
    "\n",
    "for key, value in beliveau_fslr.items():\n",
    "    if 'mni' in key[2].lower():  # Check if 'mni' (case-insensitive) is in the third element of the key tuple\n",
    "        left_gii = value[0]  \n",
    "        right_gii = value[1]  \n",
    "        combined_gii = [left_gii, right_gii]\n",
    "        transformed_values = glasser_parc.fit_transform(combined_gii, 'fsLR')\n",
    "        beliveau_parc[key] = transformed_values\n"
   ]
  },
  {
   "cell_type": "code",
   "execution_count": 68,
   "metadata": {},
   "outputs": [
    {
     "data": {
      "text/plain": [
       "dict_keys([('beliveau2017', 'az10419369', 'MNI152', '1mm'), ('beliveau2017', 'cimbi36', 'MNI152', '1mm'), ('beliveau2017', 'cumi101', 'MNI152', '1mm'), ('beliveau2017', 'dasb', 'MNI152', '1mm'), ('beliveau2017', 'sb207145', 'MNI152', '1mm')])"
      ]
     },
     "execution_count": 68,
     "metadata": {},
     "output_type": "execute_result"
    }
   ],
   "source": [
    "beliveau_parc.keys()"
   ]
  },
  {
   "cell_type": "code",
   "execution_count": 188,
   "metadata": {},
   "outputs": [
    {
     "data": {
      "text/plain": [
       "(-0.17899479678166227, 0.6853146853146853)"
      ]
     },
     "execution_count": 188,
     "metadata": {},
     "output_type": "execute_result"
    }
   ],
   "source": [
    "compare_images(beliveau_parc[('beliveau2017', 'az10419369', 'MNI152', '1mm')], agg['regional_mean_ageeffect'], metric='pearsonr', nulls=rotated)"
   ]
  },
  {
   "cell_type": "code",
   "execution_count": 189,
   "metadata": {},
   "outputs": [
    {
     "data": {
      "text/plain": [
       "(-0.31782540710961277, 0.4065934065934066)"
      ]
     },
     "execution_count": 189,
     "metadata": {},
     "output_type": "execute_result"
    }
   ],
   "source": [
    "compare_images(beliveau_parc[('beliveau2017', 'cimbi36', 'MNI152', '1mm')], agg['regional_mean_ageeffect'], metric='pearsonr', nulls=rotated)"
   ]
  },
  {
   "cell_type": "code",
   "execution_count": 190,
   "metadata": {},
   "outputs": [
    {
     "data": {
      "text/plain": [
       "(-0.47234702605614487, 0.13986013986013987)"
      ]
     },
     "execution_count": 190,
     "metadata": {},
     "output_type": "execute_result"
    }
   ],
   "source": [
    "compare_images(beliveau_parc[('beliveau2017', 'cumi101', 'MNI152', '1mm')], agg['regional_mean_ageeffect'], metric='pearsonr', nulls=rotated)"
   ]
  },
  {
   "cell_type": "code",
   "execution_count": 191,
   "metadata": {},
   "outputs": [
    {
     "data": {
      "text/plain": [
       "(-0.36079526048057897, 0.32667332667332666)"
      ]
     },
     "execution_count": 191,
     "metadata": {},
     "output_type": "execute_result"
    }
   ],
   "source": [
    "compare_images(beliveau_parc[('beliveau2017', 'dasb', 'MNI152', '1mm')], agg['regional_mean_ageeffect'], metric='pearsonr', nulls=rotated)"
   ]
  },
  {
   "cell_type": "code",
   "execution_count": 192,
   "metadata": {},
   "outputs": [
    {
     "data": {
      "text/plain": [
       "(-0.4074904770369426, 0.24875124875124874)"
      ]
     },
     "execution_count": 192,
     "metadata": {},
     "output_type": "execute_result"
    }
   ],
   "source": [
    "compare_images(beliveau_parc[('beliveau2017', 'sb207145', 'MNI152', '1mm')], agg['regional_mean_ageeffect'], metric='pearsonr', nulls=rotated)"
   ]
  },
  {
   "cell_type": "code",
   "execution_count": 81,
   "metadata": {},
   "outputs": [],
   "source": [
    "genes_fslr = transforms.fsaverage_to_fslr(genes, '32k')\n",
    "\n",
    "left_gii = genes_fslr[0]  \n",
    "right_gii = genes_fslr[1]  \n",
    "combined_gii = [left_gii, right_gii]\n",
    "transformed_values = glasser_parc.fit_transform(combined_gii, 'fsLR')\n",
    "genes_parc = transformed_values"
   ]
  },
  {
   "cell_type": "code",
   "execution_count": 193,
   "metadata": {},
   "outputs": [
    {
     "data": {
      "text/plain": [
       "(0.4651433382377202, 0.14685314685314685)"
      ]
     },
     "execution_count": 193,
     "metadata": {},
     "output_type": "execute_result"
    }
   ],
   "source": [
    "compare_images(genes_parc, agg['regional_mean_ageeffect'], metric='pearsonr', nulls=rotated)"
   ]
  },
  {
   "cell_type": "code",
   "execution_count": 93,
   "metadata": {},
   "outputs": [],
   "source": [
    "saaxis = fetch_annotation(source='sydnor2021', desc='SAaxis', space='fsLR', den='32k')\n",
    "\n",
    "\n",
    "left_gii = saaxis[0]  \n",
    "right_gii = saaxis[1]  \n",
    "combined_gii = [left_gii, right_gii]\n",
    "transformed_values = glasser_parc.fit_transform(combined_gii, 'fsLR')\n",
    "saaxis_parc = transformed_values"
   ]
  },
  {
   "cell_type": "code",
   "execution_count": 194,
   "metadata": {},
   "outputs": [
    {
     "data": {
      "text/plain": [
       "(-0.5105066361921242, 0.0959040959040959)"
      ]
     },
     "execution_count": 194,
     "metadata": {},
     "output_type": "execute_result"
    }
   ],
   "source": [
    "compare_images(saaxis_parc, agg['regional_mean_ageeffect'], metric='pearsonr', nulls=rotated)"
   ]
  },
  {
   "cell_type": "code",
   "execution_count": 158,
   "metadata": {},
   "outputs": [],
   "source": [
    "dukart = fetch_annotation(source='dukart2018', desc = 'flumazenil')\n",
    "dukart_fslr = transforms.mni152_to_fslr(dukart, '32k')\n",
    "\n",
    "left_gii = dukart_fslr[0]  \n",
    "right_gii = dukart_fslr[1]  \n",
    "combined_gii = [left_gii, right_gii]\n",
    "transformed_values = glasser_parc.fit_transform(combined_gii, 'fsLR')\n",
    "dukart_parc = transformed_values"
   ]
  },
  {
   "cell_type": "code",
   "execution_count": 195,
   "metadata": {},
   "outputs": [
    {
     "data": {
      "text/plain": [
       "(-0.3659618076383335, 0.3206793206793207)"
      ]
     },
     "execution_count": 195,
     "metadata": {},
     "output_type": "execute_result"
    }
   ],
   "source": [
    "compare_images(dukart_parc, agg['regional_mean_ageeffect'], metric='pearsonr', nulls=rotated)"
   ]
  },
  {
   "cell_type": "code",
   "execution_count": 165,
   "metadata": {},
   "outputs": [
    {
     "name": "stderr",
     "output_type": "stream",
     "text": [
      "/Users/audluo/anaconda3/envs/luo_wm_dev/lib/python3.8/site-packages/neuromaps/datasets/annotations.py:238: UserWarning: Data from beliveau2017 and norgaard2021 is best used in the provided fsaverage space (e.g. source='beliveau2017', space='fsaverage', den='164k'). MNI152 maps should only be used for subcortical data.\n",
      "  warnings.warn('Data from beliveau2017 and norgaard2021 is best used in'\n"
     ]
    }
   ],
   "source": [
    "norgaard = fetch_annotation(source='norgaard2021', desc = 'flumazenil', space = 'MNI152')\n",
    "norgaard_fslr = transforms.mni152_to_fslr(norgaard, '32k')\n",
    "\n",
    "left_gii = norgaard_fslr[0]  \n",
    "right_gii = norgaard_fslr[1]  \n",
    "combined_gii = [left_gii, right_gii]\n",
    "transformed_values = glasser_parc.fit_transform(combined_gii, 'fsLR')\n",
    "norgaard_parc = transformed_values"
   ]
  },
  {
   "cell_type": "code",
   "execution_count": 196,
   "metadata": {},
   "outputs": [
    {
     "data": {
      "text/plain": [
       "(0.035244021867483315, 0.942057942057942)"
      ]
     },
     "execution_count": 196,
     "metadata": {},
     "output_type": "execute_result"
    }
   ],
   "source": [
    "compare_images(norgaard_parc, agg['regional_mean_ageeffect'], metric='pearsonr', nulls=rotated)"
   ]
  },
  {
   "cell_type": "code",
   "execution_count": null,
   "metadata": {},
   "outputs": [],
   "source": []
  }
 ],
 "metadata": {
  "kernelspec": {
   "display_name": "luo_wm_dev",
   "language": "python",
   "name": "python3"
  },
  "language_info": {
   "codemirror_mode": {
    "name": "ipython",
    "version": 3
   },
   "file_extension": ".py",
   "mimetype": "text/x-python",
   "name": "python",
   "nbconvert_exporter": "python",
   "pygments_lexer": "ipython3",
   "version": "3.8.18"
  }
 },
 "nbformat": 4,
 "nbformat_minor": 2
}
