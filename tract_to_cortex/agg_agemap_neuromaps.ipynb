{
 "cells": [
  {
   "cell_type": "code",
   "execution_count": 10,
   "metadata": {},
   "outputs": [],
   "source": [
    "from neuromaps.datasets import available_annotations\n",
    "from neuromaps.datasets import fetch_annotation\n",
    "import json\n",
    "import nibabel as nib\n",
    "import numpy as np\n",
    "import os\n",
    "from os.path import join as ospj\n",
    "import re\n",
    "import pandas as pd\n",
    "import sys\n",
    " "
   ]
  },
  {
   "cell_type": "code",
   "execution_count": 3,
   "metadata": {},
   "outputs": [],
   "source": [
    "# load aggregated age map\n",
    "\n",
    "hcpd_agg = pd.read_csv(\"/cbica/projects/luo_wm_dev/output/HCPD/tract_profiles/tract_to_cortex/HCPD_agg_ageeffects_ordered.csv\")"
   ]
  },
  {
   "cell_type": "code",
   "execution_count": 5,
   "metadata": {},
   "outputs": [
    {
     "data": {
      "text/html": [
       "<div>\n",
       "<style scoped>\n",
       "    .dataframe tbody tr th:only-of-type {\n",
       "        vertical-align: middle;\n",
       "    }\n",
       "\n",
       "    .dataframe tbody tr th {\n",
       "        vertical-align: top;\n",
       "    }\n",
       "\n",
       "    .dataframe thead th {\n",
       "        text-align: right;\n",
       "    }\n",
       "</style>\n",
       "<table border=\"1\" class=\"dataframe\">\n",
       "  <thead>\n",
       "    <tr style=\"text-align: right;\">\n",
       "      <th></th>\n",
       "      <th>Unnamed: 0</th>\n",
       "      <th>region</th>\n",
       "      <th>regional_mean_ageeffect</th>\n",
       "      <th>coverage</th>\n",
       "      <th>regionName</th>\n",
       "      <th>regionLongName</th>\n",
       "      <th>regionIdLabel</th>\n",
       "      <th>LR</th>\n",
       "      <th>Lobe</th>\n",
       "      <th>cortex</th>\n",
       "      <th>regionID</th>\n",
       "      <th>Cortex_ID</th>\n",
       "      <th>x.cog</th>\n",
       "      <th>y.cog</th>\n",
       "      <th>z.cog</th>\n",
       "      <th>volmm</th>\n",
       "      <th>label</th>\n",
       "    </tr>\n",
       "  </thead>\n",
       "  <tbody>\n",
       "    <tr>\n",
       "      <th>0</th>\n",
       "      <td>1</td>\n",
       "      <td>V1</td>\n",
       "      <td>-0.328780</td>\n",
       "      <td>yes</td>\n",
       "      <td>V1_R</td>\n",
       "      <td>Primary_Visual_Cortex_R</td>\n",
       "      <td>201_R</td>\n",
       "      <td>R</td>\n",
       "      <td>Occ</td>\n",
       "      <td>Primary_Visual</td>\n",
       "      <td>181</td>\n",
       "      <td>1</td>\n",
       "      <td>78.060375</td>\n",
       "      <td>44.539286</td>\n",
       "      <td>74.333474</td>\n",
       "      <td>7089</td>\n",
       "      <td>R_V1_ROI</td>\n",
       "    </tr>\n",
       "    <tr>\n",
       "      <th>1</th>\n",
       "      <td>2</td>\n",
       "      <td>MST</td>\n",
       "      <td>NaN</td>\n",
       "      <td>no</td>\n",
       "      <td>MST_R</td>\n",
       "      <td>Medial_Superior_Temporal_Area_R</td>\n",
       "      <td>202_R</td>\n",
       "      <td>R</td>\n",
       "      <td>Occ</td>\n",
       "      <td>MT+_Complex_and_Neighboring_Visual_Areas</td>\n",
       "      <td>182</td>\n",
       "      <td>5</td>\n",
       "      <td>43.620295</td>\n",
       "      <td>63.751227</td>\n",
       "      <td>78.013093</td>\n",
       "      <td>611</td>\n",
       "      <td>R_MST_ROI</td>\n",
       "    </tr>\n",
       "    <tr>\n",
       "      <th>2</th>\n",
       "      <td>3</td>\n",
       "      <td>V6</td>\n",
       "      <td>NaN</td>\n",
       "      <td>no</td>\n",
       "      <td>V6_R</td>\n",
       "      <td>Sixth_Visual_Area_R</td>\n",
       "      <td>203_R</td>\n",
       "      <td>R</td>\n",
       "      <td>Occ</td>\n",
       "      <td>Dorsal_Stream_Visual</td>\n",
       "      <td>183</td>\n",
       "      <td>3</td>\n",
       "      <td>72.226868</td>\n",
       "      <td>49.256228</td>\n",
       "      <td>102.929715</td>\n",
       "      <td>1124</td>\n",
       "      <td>R_V6_ROI</td>\n",
       "    </tr>\n",
       "    <tr>\n",
       "      <th>3</th>\n",
       "      <td>4</td>\n",
       "      <td>V2</td>\n",
       "      <td>-0.328780</td>\n",
       "      <td>yes</td>\n",
       "      <td>V2_R</td>\n",
       "      <td>Second_Visual_Area_R</td>\n",
       "      <td>204_R</td>\n",
       "      <td>R</td>\n",
       "      <td>Occ</td>\n",
       "      <td>Early_Visual</td>\n",
       "      <td>184</td>\n",
       "      <td>2</td>\n",
       "      <td>77.026083</td>\n",
       "      <td>47.558042</td>\n",
       "      <td>76.305265</td>\n",
       "      <td>6211</td>\n",
       "      <td>R_V2_ROI</td>\n",
       "    </tr>\n",
       "    <tr>\n",
       "      <th>4</th>\n",
       "      <td>5</td>\n",
       "      <td>V3</td>\n",
       "      <td>-0.328780</td>\n",
       "      <td>yes</td>\n",
       "      <td>V3_R</td>\n",
       "      <td>Third_Visual_Area_R</td>\n",
       "      <td>205_R</td>\n",
       "      <td>R</td>\n",
       "      <td>Occ</td>\n",
       "      <td>Early_Visual</td>\n",
       "      <td>185</td>\n",
       "      <td>2</td>\n",
       "      <td>71.976821</td>\n",
       "      <td>41.580308</td>\n",
       "      <td>78.859282</td>\n",
       "      <td>4875</td>\n",
       "      <td>R_V3_ROI</td>\n",
       "    </tr>\n",
       "    <tr>\n",
       "      <th>...</th>\n",
       "      <td>...</td>\n",
       "      <td>...</td>\n",
       "      <td>...</td>\n",
       "      <td>...</td>\n",
       "      <td>...</td>\n",
       "      <td>...</td>\n",
       "      <td>...</td>\n",
       "      <td>...</td>\n",
       "      <td>...</td>\n",
       "      <td>...</td>\n",
       "      <td>...</td>\n",
       "      <td>...</td>\n",
       "      <td>...</td>\n",
       "      <td>...</td>\n",
       "      <td>...</td>\n",
       "      <td>...</td>\n",
       "      <td>...</td>\n",
       "    </tr>\n",
       "    <tr>\n",
       "      <th>355</th>\n",
       "      <td>356</td>\n",
       "      <td>STSva</td>\n",
       "      <td>-0.262272</td>\n",
       "      <td>yes</td>\n",
       "      <td>STSva_L</td>\n",
       "      <td>Area_STSv_anterior_L</td>\n",
       "      <td>176_L</td>\n",
       "      <td>L</td>\n",
       "      <td>Temp</td>\n",
       "      <td>Auditory_Association</td>\n",
       "      <td>176</td>\n",
       "      <td>11</td>\n",
       "      <td>142.689243</td>\n",
       "      <td>118.134462</td>\n",
       "      <td>52.832669</td>\n",
       "      <td>1004</td>\n",
       "      <td>L_STSva_ROI</td>\n",
       "    </tr>\n",
       "    <tr>\n",
       "      <th>356</th>\n",
       "      <td>357</td>\n",
       "      <td>TE1m</td>\n",
       "      <td>-0.328780</td>\n",
       "      <td>yes</td>\n",
       "      <td>TE1m_L</td>\n",
       "      <td>Area_TE1_Middle_L</td>\n",
       "      <td>177_L</td>\n",
       "      <td>L</td>\n",
       "      <td>Temp</td>\n",
       "      <td>Lateral_Temporal</td>\n",
       "      <td>177</td>\n",
       "      <td>14</td>\n",
       "      <td>155.554922</td>\n",
       "      <td>101.395287</td>\n",
       "      <td>54.901178</td>\n",
       "      <td>2631</td>\n",
       "      <td>L_TE1m_ROI</td>\n",
       "    </tr>\n",
       "    <tr>\n",
       "      <th>357</th>\n",
       "      <td>358</td>\n",
       "      <td>PI</td>\n",
       "      <td>-0.262272</td>\n",
       "      <td>yes</td>\n",
       "      <td>PI_L</td>\n",
       "      <td>Para-Insular_Area_L</td>\n",
       "      <td>178_L</td>\n",
       "      <td>L</td>\n",
       "      <td>Temp</td>\n",
       "      <td>Insular_and_Frontal_Opercular</td>\n",
       "      <td>178</td>\n",
       "      <td>12</td>\n",
       "      <td>134.650549</td>\n",
       "      <td>124.293407</td>\n",
       "      <td>56.102198</td>\n",
       "      <td>910</td>\n",
       "      <td>L_PI_ROI</td>\n",
       "    </tr>\n",
       "    <tr>\n",
       "      <th>358</th>\n",
       "      <td>359</td>\n",
       "      <td>a32pr</td>\n",
       "      <td>-0.348373</td>\n",
       "      <td>yes</td>\n",
       "      <td>a32pr_L</td>\n",
       "      <td>Area_anterior_32_prime_L</td>\n",
       "      <td>179_L</td>\n",
       "      <td>L</td>\n",
       "      <td>Fr</td>\n",
       "      <td>Anterior_Cingulate_and_Medial_Prefrontal</td>\n",
       "      <td>179</td>\n",
       "      <td>19</td>\n",
       "      <td>97.782313</td>\n",
       "      <td>155.883735</td>\n",
       "      <td>101.539270</td>\n",
       "      <td>1617</td>\n",
       "      <td>L_a32pr_ROI</td>\n",
       "    </tr>\n",
       "    <tr>\n",
       "      <th>359</th>\n",
       "      <td>360</td>\n",
       "      <td>p24</td>\n",
       "      <td>-0.348373</td>\n",
       "      <td>yes</td>\n",
       "      <td>p24_L</td>\n",
       "      <td>Area_posterior_24_L</td>\n",
       "      <td>180_L</td>\n",
       "      <td>L</td>\n",
       "      <td>Fr</td>\n",
       "      <td>Anterior_Cingulate_and_Medial_Prefrontal</td>\n",
       "      <td>180</td>\n",
       "      <td>19</td>\n",
       "      <td>95.442887</td>\n",
       "      <td>162.526279</td>\n",
       "      <td>84.888577</td>\n",
       "      <td>1427</td>\n",
       "      <td>L_p24_ROI</td>\n",
       "    </tr>\n",
       "  </tbody>\n",
       "</table>\n",
       "<p>360 rows × 17 columns</p>\n",
       "</div>"
      ],
      "text/plain": [
       "     Unnamed: 0 region  regional_mean_ageeffect coverage regionName  \\\n",
       "0             1     V1                -0.328780      yes       V1_R   \n",
       "1             2    MST                      NaN       no      MST_R   \n",
       "2             3     V6                      NaN       no       V6_R   \n",
       "3             4     V2                -0.328780      yes       V2_R   \n",
       "4             5     V3                -0.328780      yes       V3_R   \n",
       "..          ...    ...                      ...      ...        ...   \n",
       "355         356  STSva                -0.262272      yes    STSva_L   \n",
       "356         357   TE1m                -0.328780      yes     TE1m_L   \n",
       "357         358     PI                -0.262272      yes       PI_L   \n",
       "358         359  a32pr                -0.348373      yes    a32pr_L   \n",
       "359         360    p24                -0.348373      yes      p24_L   \n",
       "\n",
       "                      regionLongName regionIdLabel LR  Lobe  \\\n",
       "0            Primary_Visual_Cortex_R         201_R  R   Occ   \n",
       "1    Medial_Superior_Temporal_Area_R         202_R  R   Occ   \n",
       "2                Sixth_Visual_Area_R         203_R  R   Occ   \n",
       "3               Second_Visual_Area_R         204_R  R   Occ   \n",
       "4                Third_Visual_Area_R         205_R  R   Occ   \n",
       "..                               ...           ... ..   ...   \n",
       "355             Area_STSv_anterior_L         176_L  L  Temp   \n",
       "356                Area_TE1_Middle_L         177_L  L  Temp   \n",
       "357              Para-Insular_Area_L         178_L  L  Temp   \n",
       "358         Area_anterior_32_prime_L         179_L  L    Fr   \n",
       "359              Area_posterior_24_L         180_L  L    Fr   \n",
       "\n",
       "                                       cortex  regionID  Cortex_ID  \\\n",
       "0                              Primary_Visual       181          1   \n",
       "1    MT+_Complex_and_Neighboring_Visual_Areas       182          5   \n",
       "2                        Dorsal_Stream_Visual       183          3   \n",
       "3                                Early_Visual       184          2   \n",
       "4                                Early_Visual       185          2   \n",
       "..                                        ...       ...        ...   \n",
       "355                      Auditory_Association       176         11   \n",
       "356                          Lateral_Temporal       177         14   \n",
       "357             Insular_and_Frontal_Opercular       178         12   \n",
       "358  Anterior_Cingulate_and_Medial_Prefrontal       179         19   \n",
       "359  Anterior_Cingulate_and_Medial_Prefrontal       180         19   \n",
       "\n",
       "          x.cog       y.cog       z.cog  volmm        label  \n",
       "0     78.060375   44.539286   74.333474   7089     R_V1_ROI  \n",
       "1     43.620295   63.751227   78.013093    611    R_MST_ROI  \n",
       "2     72.226868   49.256228  102.929715   1124     R_V6_ROI  \n",
       "3     77.026083   47.558042   76.305265   6211     R_V2_ROI  \n",
       "4     71.976821   41.580308   78.859282   4875     R_V3_ROI  \n",
       "..          ...         ...         ...    ...          ...  \n",
       "355  142.689243  118.134462   52.832669   1004  L_STSva_ROI  \n",
       "356  155.554922  101.395287   54.901178   2631   L_TE1m_ROI  \n",
       "357  134.650549  124.293407   56.102198    910     L_PI_ROI  \n",
       "358   97.782313  155.883735  101.539270   1617  L_a32pr_ROI  \n",
       "359   95.442887  162.526279   84.888577   1427    L_p24_ROI  \n",
       "\n",
       "[360 rows x 17 columns]"
      ]
     },
     "execution_count": 5,
     "metadata": {},
     "output_type": "execute_result"
    }
   ],
   "source": [
    "hcpd_agg"
   ]
  },
  {
   "cell_type": "code",
   "execution_count": 15,
   "metadata": {},
   "outputs": [
    {
     "name": "stdout",
     "output_type": "stream",
     "text": [
      "('raichle', 'cbf', 'fsLR', '164k')\n",
      "('raichle', 'cbv', 'fsLR', '164k')\n",
      "('raichle', 'cmr02', 'fsLR', '164k')\n",
      "('raichle', 'cmrglc', 'fsLR', '164k')\n"
     ]
    }
   ],
   "source": [
    "for annotation in available_annotations('raichle'):\n",
    "    print(annotation)"
   ]
  },
  {
   "cell_type": "code",
   "execution_count": 8,
   "metadata": {},
   "outputs": [
    {
     "name": "stdout",
     "output_type": "stream",
     "text": [
      "('reardon2018', 'scalinghcp', 'civet', '41k')\n",
      "('reardon2018', 'scalingnih', 'civet', '41k')\n",
      "('reardon2018', 'scalingpnc', 'civet', '41k')\n"
     ]
    }
   ],
   "source": [
    "for annotation in available_annotations('reardon2018'):\n",
    "    print(annotation)"
   ]
  },
  {
   "cell_type": "code",
   "execution_count": 16,
   "metadata": {},
   "outputs": [
    {
     "name": "stdout",
     "output_type": "stream",
     "text": [
      "('satterthwaite2014', 'meancbf', 'MNI152', '1mm')\n"
     ]
    }
   ],
   "source": [
    "for annotation in available_annotations('satterthwaite2014'):\n",
    "    print(annotation)"
   ]
  },
  {
   "cell_type": "code",
   "execution_count": 17,
   "metadata": {},
   "outputs": [
    {
     "name": "stdout",
     "output_type": "stream",
     "text": [
      "('hcps1200', 'megalpha', 'fsLR', '4k')\n",
      "('hcps1200', 'megbeta', 'fsLR', '4k')\n",
      "('hcps1200', 'megdelta', 'fsLR', '4k')\n",
      "('hcps1200', 'meggamma1', 'fsLR', '4k')\n",
      "('hcps1200', 'meggamma2', 'fsLR', '4k')\n",
      "('hcps1200', 'megtheta', 'fsLR', '4k')\n",
      "('hcps1200', 'megtimescale', 'fsLR', '4k')\n",
      "('hcps1200', 'myelinmap', 'fsLR', '32k')\n",
      "('hcps1200', 'thickness', 'fsLR', '32k')\n"
     ]
    }
   ],
   "source": [
    "for annotation in available_annotations('hcps1200'):\n",
    "    print(annotation)"
   ]
  },
  {
   "cell_type": "code",
   "execution_count": 14,
   "metadata": {},
   "outputs": [
    {
     "name": "stdout",
     "output_type": "stream",
     "text": [
      "Downloading data from https://files.osf.io/v1/resources/4mw3a/providers/osfstorage/6130fe62af610c0212dfd100 ...\n"
     ]
    },
    {
     "name": "stderr",
     "output_type": "stream",
     "text": [
      " ...done. (1 seconds, 0 min)\n"
     ]
    },
    {
     "name": "stdout",
     "output_type": "stream",
     "text": [
      "Downloading data from https://files.osf.io/v1/resources/4mw3a/providers/osfstorage/6130fe6fab8bca0226edd089 ...\n"
     ]
    },
    {
     "name": "stderr",
     "output_type": "stream",
     "text": [
      " ...done. (0 seconds, 0 min)\n"
     ]
    },
    {
     "name": "stdout",
     "output_type": "stream",
     "text": [
      "Downloading data from https://files.osf.io/v1/resources/4mw3a/providers/osfstorage/6130fe90af610c0216dfde19 ...\n"
     ]
    },
    {
     "name": "stderr",
     "output_type": "stream",
     "text": [
      " ...done. (1 seconds, 0 min)\n"
     ]
    },
    {
     "name": "stdout",
     "output_type": "stream",
     "text": [
      "Downloading data from https://files.osf.io/v1/resources/4mw3a/providers/osfstorage/6130fe9caf610c0216dfde35 ...\n"
     ]
    },
    {
     "name": "stderr",
     "output_type": "stream",
     "text": [
      " ...done. (3 seconds, 0 min)\n"
     ]
    },
    {
     "name": "stdout",
     "output_type": "stream",
     "text": [
      "Downloading data from https://files.osf.io/v1/resources/4mw3a/providers/osfstorage/6130febeab8bca0226edd198 ...\n"
     ]
    },
    {
     "name": "stderr",
     "output_type": "stream",
     "text": [
      " ...done. (1 seconds, 0 min)\n"
     ]
    },
    {
     "name": "stdout",
     "output_type": "stream",
     "text": [
      "Downloading data from https://files.osf.io/v1/resources/4mw3a/providers/osfstorage/6130fecbab8bca0226edd1c6 ...\n"
     ]
    },
    {
     "name": "stderr",
     "output_type": "stream",
     "text": [
      " ...done. (0 seconds, 0 min)\n"
     ]
    },
    {
     "name": "stdout",
     "output_type": "stream",
     "text": [
      "Downloading data from https://files.osf.io/v1/resources/4mw3a/providers/osfstorage/6130fe86af610c0217dfe770 ...\n"
     ]
    },
    {
     "name": "stderr",
     "output_type": "stream",
     "text": [
      " ...done. (2 seconds, 0 min)\n"
     ]
    },
    {
     "name": "stdout",
     "output_type": "stream",
     "text": [
      "Downloading data from https://files.osf.io/v1/resources/4mw3a/providers/osfstorage/6130fe7a4e5ee50219291b6e ...\n"
     ]
    },
    {
     "name": "stderr",
     "output_type": "stream",
     "text": [
      " ...done. (1 seconds, 0 min)\n"
     ]
    },
    {
     "name": "stdout",
     "output_type": "stream",
     "text": [
      "Downloading data from https://files.osf.io/v1/resources/4mw3a/providers/osfstorage/6130fea54e5ee502182911a0 ...\n"
     ]
    },
    {
     "name": "stderr",
     "output_type": "stream",
     "text": [
      " ...done. (2 seconds, 0 min)\n"
     ]
    },
    {
     "name": "stdout",
     "output_type": "stream",
     "text": [
      "Downloading data from https://files.osf.io/v1/resources/4mw3a/providers/osfstorage/6130feb4af610c0216dfde66 ...\n"
     ]
    },
    {
     "name": "stderr",
     "output_type": "stream",
     "text": [
      " ...done. (1 seconds, 0 min)\n"
     ]
    },
    {
     "name": "stdout",
     "output_type": "stream",
     "text": [
      "Downloading data from https://files.osf.io/v1/resources/4mw3a/providers/osfstorage/6130fe57af610c020ddfebd0 ...\n"
     ]
    },
    {
     "name": "stderr",
     "output_type": "stream",
     "text": [
      " ...done. (1 seconds, 0 min)\n"
     ]
    },
    {
     "name": "stdout",
     "output_type": "stream",
     "text": [
      "Downloading data from https://files.osf.io/v1/resources/4mw3a/providers/osfstorage/6130fe49ab8bca0225edc476 ...\n"
     ]
    },
    {
     "name": "stderr",
     "output_type": "stream",
     "text": [
      " ...done. (0 seconds, 0 min)\n"
     ]
    },
    {
     "name": "stdout",
     "output_type": "stream",
     "text": [
      "Downloading data from https://files.osf.io/v1/resources/4mw3a/providers/osfstorage/61aa56660db65905cf836093 ...\n"
     ]
    },
    {
     "name": "stderr",
     "output_type": "stream",
     "text": [
      " ...done. (1 seconds, 0 min)\n"
     ]
    },
    {
     "name": "stdout",
     "output_type": "stream",
     "text": [
      "Downloading data from https://files.osf.io/v1/resources/4mw3a/providers/osfstorage/61aa5657c7d9fb0543eb52b8 ...\n"
     ]
    },
    {
     "name": "stderr",
     "output_type": "stream",
     "text": [
      " ...done. (1 seconds, 0 min)\n"
     ]
    },
    {
     "name": "stdout",
     "output_type": "stream",
     "text": [
      "Downloading data from https://files.osf.io/v1/resources/4mw3a/providers/osfstorage/6130fe1c4e5ee50219291a2a ...\n"
     ]
    },
    {
     "name": "stderr",
     "output_type": "stream",
     "text": [
      " ...done. (1 seconds, 0 min)\n"
     ]
    },
    {
     "name": "stdout",
     "output_type": "stream",
     "text": [
      "Downloading data from https://files.osf.io/v1/resources/4mw3a/providers/osfstorage/6130fe29af610c0216dfdd20 ...\n"
     ]
    },
    {
     "name": "stderr",
     "output_type": "stream",
     "text": [
      " ...done. (2 seconds, 0 min)\n"
     ]
    },
    {
     "name": "stdout",
     "output_type": "stream",
     "text": [
      "Downloading data from https://files.osf.io/v1/resources/4mw3a/providers/osfstorage/6130fe34af610c0217dfe61a ...\n"
     ]
    },
    {
     "name": "stderr",
     "output_type": "stream",
     "text": [
      " ...done. (1 seconds, 0 min)\n"
     ]
    },
    {
     "name": "stdout",
     "output_type": "stream",
     "text": [
      "Downloading data from https://files.osf.io/v1/resources/4mw3a/providers/osfstorage/6130fe40ab8bca0225edc458 ...\n"
     ]
    },
    {
     "name": "stderr",
     "output_type": "stream",
     "text": [
      " ...done. (2 seconds, 0 min)\n"
     ]
    }
   ],
   "source": [
    "annotations = fetch_annotation(source=['raichle', 'reardon2018', 'satterthwaite2014', 'hcps1200'])\n"
   ]
  },
  {
   "cell_type": "markdown",
   "metadata": {},
   "source": [
    "- need to transform surfaces to fslr 32k\n",
    "- then parcellate the maps to glasser\n",
    "- then compare the brain maps\n",
    "- i'm lazy"
   ]
  },
  {
   "cell_type": "code",
   "execution_count": 19,
   "metadata": {},
   "outputs": [
    {
     "data": {
      "text/plain": [
       "{('hcps1200',\n",
       "  'megalpha',\n",
       "  'fsLR',\n",
       "  '4k'): ['/cbica/projects/luo_wm_dev/neuromaps-data/annotations/hcps1200/megalpha/fsLR/source-hcps1200_desc-megalpha_space-fsLR_den-4k_hemi-L_feature.func.gii', '/cbica/projects/luo_wm_dev/neuromaps-data/annotations/hcps1200/megalpha/fsLR/source-hcps1200_desc-megalpha_space-fsLR_den-4k_hemi-R_feature.func.gii'],\n",
       " ('hcps1200',\n",
       "  'megbeta',\n",
       "  'fsLR',\n",
       "  '4k'): ['/cbica/projects/luo_wm_dev/neuromaps-data/annotations/hcps1200/megbeta/fsLR/source-hcps1200_desc-megbeta_space-fsLR_den-4k_hemi-L_feature.func.gii', '/cbica/projects/luo_wm_dev/neuromaps-data/annotations/hcps1200/megbeta/fsLR/source-hcps1200_desc-megbeta_space-fsLR_den-4k_hemi-R_feature.func.gii'],\n",
       " ('hcps1200',\n",
       "  'megdelta',\n",
       "  'fsLR',\n",
       "  '4k'): ['/cbica/projects/luo_wm_dev/neuromaps-data/annotations/hcps1200/megdelta/fsLR/source-hcps1200_desc-megdelta_space-fsLR_den-4k_hemi-L_feature.func.gii', '/cbica/projects/luo_wm_dev/neuromaps-data/annotations/hcps1200/megdelta/fsLR/source-hcps1200_desc-megdelta_space-fsLR_den-4k_hemi-R_feature.func.gii'],\n",
       " ('hcps1200',\n",
       "  'meggamma1',\n",
       "  'fsLR',\n",
       "  '4k'): ['/cbica/projects/luo_wm_dev/neuromaps-data/annotations/hcps1200/meggamma1/fsLR/source-hcps1200_desc-meggamma1_space-fsLR_den-4k_hemi-L_feature.func.gii', '/cbica/projects/luo_wm_dev/neuromaps-data/annotations/hcps1200/meggamma1/fsLR/source-hcps1200_desc-meggamma1_space-fsLR_den-4k_hemi-R_feature.func.gii'],\n",
       " ('hcps1200',\n",
       "  'meggamma2',\n",
       "  'fsLR',\n",
       "  '4k'): ['/cbica/projects/luo_wm_dev/neuromaps-data/annotations/hcps1200/meggamma2/fsLR/source-hcps1200_desc-meggamma2_space-fsLR_den-4k_hemi-L_feature.func.gii', '/cbica/projects/luo_wm_dev/neuromaps-data/annotations/hcps1200/meggamma2/fsLR/source-hcps1200_desc-meggamma2_space-fsLR_den-4k_hemi-R_feature.func.gii'],\n",
       " ('hcps1200',\n",
       "  'megtheta',\n",
       "  'fsLR',\n",
       "  '4k'): ['/cbica/projects/luo_wm_dev/neuromaps-data/annotations/hcps1200/megtheta/fsLR/source-hcps1200_desc-megtheta_space-fsLR_den-4k_hemi-L_feature.func.gii', '/cbica/projects/luo_wm_dev/neuromaps-data/annotations/hcps1200/megtheta/fsLR/source-hcps1200_desc-megtheta_space-fsLR_den-4k_hemi-R_feature.func.gii'],\n",
       " ('hcps1200',\n",
       "  'megtimescale',\n",
       "  'fsLR',\n",
       "  '4k'): ['/cbica/projects/luo_wm_dev/neuromaps-data/annotations/hcps1200/megtimescale/fsLR/source-hcps1200_desc-megtimescale_space-fsLR_den-4k_hemi-L_feature.func.gii', '/cbica/projects/luo_wm_dev/neuromaps-data/annotations/hcps1200/megtimescale/fsLR/source-hcps1200_desc-megtimescale_space-fsLR_den-4k_hemi-R_feature.func.gii'],\n",
       " ('hcps1200',\n",
       "  'myelinmap',\n",
       "  'fsLR',\n",
       "  '32k'): ['/cbica/projects/luo_wm_dev/neuromaps-data/annotations/hcps1200/myelinmap/fsLR/source-hcps1200_desc-myelinmap_space-fsLR_den-32k_hemi-L_feature.func.gii', '/cbica/projects/luo_wm_dev/neuromaps-data/annotations/hcps1200/myelinmap/fsLR/source-hcps1200_desc-myelinmap_space-fsLR_den-32k_hemi-R_feature.func.gii'],\n",
       " ('hcps1200',\n",
       "  'thickness',\n",
       "  'fsLR',\n",
       "  '32k'): ['/cbica/projects/luo_wm_dev/neuromaps-data/annotations/hcps1200/thickness/fsLR/source-hcps1200_desc-thickness_space-fsLR_den-32k_hemi-L_feature.func.gii', '/cbica/projects/luo_wm_dev/neuromaps-data/annotations/hcps1200/thickness/fsLR/source-hcps1200_desc-thickness_space-fsLR_den-32k_hemi-R_feature.func.gii'],\n",
       " ('raichle',\n",
       "  'cbf',\n",
       "  'fsLR',\n",
       "  '164k'): ['/cbica/projects/luo_wm_dev/neuromaps-data/annotations/raichle/cbf/fsLR/source-raichle_desc-cbf_space-fsLR_den-164k_hemi-L_feature.func.gii', '/cbica/projects/luo_wm_dev/neuromaps-data/annotations/raichle/cbf/fsLR/source-raichle_desc-cbf_space-fsLR_den-164k_hemi-R_feature.func.gii'],\n",
       " ('raichle',\n",
       "  'cbv',\n",
       "  'fsLR',\n",
       "  '164k'): ['/cbica/projects/luo_wm_dev/neuromaps-data/annotations/raichle/cbv/fsLR/source-raichle_desc-cbv_space-fsLR_den-164k_hemi-L_feature.func.gii', '/cbica/projects/luo_wm_dev/neuromaps-data/annotations/raichle/cbv/fsLR/source-raichle_desc-cbv_space-fsLR_den-164k_hemi-R_feature.func.gii'],\n",
       " ('raichle',\n",
       "  'cmr02',\n",
       "  'fsLR',\n",
       "  '164k'): ['/cbica/projects/luo_wm_dev/neuromaps-data/annotations/raichle/cmr02/fsLR/source-raichle_desc-cmr02_space-fsLR_den-164k_hemi-L_feature.func.gii', '/cbica/projects/luo_wm_dev/neuromaps-data/annotations/raichle/cmr02/fsLR/source-raichle_desc-cmr02_space-fsLR_den-164k_hemi-R_feature.func.gii'],\n",
       " ('raichle',\n",
       "  'cmrglc',\n",
       "  'fsLR',\n",
       "  '164k'): ['/cbica/projects/luo_wm_dev/neuromaps-data/annotations/raichle/cmrglc/fsLR/source-raichle_desc-cmrglc_space-fsLR_den-164k_hemi-L_feature.func.gii', '/cbica/projects/luo_wm_dev/neuromaps-data/annotations/raichle/cmrglc/fsLR/source-raichle_desc-cmrglc_space-fsLR_den-164k_hemi-R_feature.func.gii'],\n",
       " ('reardon2018',\n",
       "  'scalinghcp',\n",
       "  'civet',\n",
       "  '41k'): ['/cbica/projects/luo_wm_dev/neuromaps-data/annotations/reardon2018/scalinghcp/civet/source-reardon2018_desc-scalinghcp_space-civet_den-41k_hemi-L_feature.func.gii', '/cbica/projects/luo_wm_dev/neuromaps-data/annotations/reardon2018/scalinghcp/civet/source-reardon2018_desc-scalinghcp_space-civet_den-41k_hemi-R_feature.func.gii'],\n",
       " ('reardon2018',\n",
       "  'scalingnih',\n",
       "  'civet',\n",
       "  '41k'): ['/cbica/projects/luo_wm_dev/neuromaps-data/annotations/reardon2018/scalingnih/civet/source-reardon2018_desc-scalingnih_space-civet_den-41k_hemi-L_feature.func.gii', '/cbica/projects/luo_wm_dev/neuromaps-data/annotations/reardon2018/scalingnih/civet/source-reardon2018_desc-scalingnih_space-civet_den-41k_hemi-R_feature.func.gii'],\n",
       " ('reardon2018',\n",
       "  'scalingpnc',\n",
       "  'civet',\n",
       "  '41k'): ['/cbica/projects/luo_wm_dev/neuromaps-data/annotations/reardon2018/scalingpnc/civet/source-reardon2018_desc-scalingpnc_space-civet_den-41k_hemi-L_feature.func.gii', '/cbica/projects/luo_wm_dev/neuromaps-data/annotations/reardon2018/scalingpnc/civet/source-reardon2018_desc-scalingpnc_space-civet_den-41k_hemi-R_feature.func.gii'],\n",
       " ('satterthwaite2014',\n",
       "  'meancbf',\n",
       "  'MNI152',\n",
       "  '1mm'): '/cbica/projects/luo_wm_dev/neuromaps-data/annotations/satterthwaite2014/meancbf/MNI152/source-satterthwaite2014_desc-meancbf_space-MNI152_res-1mm_feature.nii.gz'}"
      ]
     },
     "execution_count": 19,
     "metadata": {},
     "output_type": "execute_result"
    }
   ],
   "source": [
    "annotations"
   ]
  },
  {
   "cell_type": "code",
   "execution_count": null,
   "metadata": {},
   "outputs": [],
   "source": []
  }
 ],
 "metadata": {
  "kernelspec": {
   "display_name": "luo_wm_dev",
   "language": "python",
   "name": "python3"
  },
  "language_info": {
   "codemirror_mode": {
    "name": "ipython",
    "version": 3
   },
   "file_extension": ".py",
   "mimetype": "text/x-python",
   "name": "python",
   "nbconvert_exporter": "python",
   "pygments_lexer": "ipython3",
   "version": "3.8.18"
  }
 },
 "nbformat": 4,
 "nbformat_minor": 2
}
